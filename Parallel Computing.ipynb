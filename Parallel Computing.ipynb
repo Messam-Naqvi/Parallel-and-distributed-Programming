{
  "cells": [
    {
      "cell_type": "code",
      "execution_count": 2,
      "metadata": {
        "colab": {
          "base_uri": "https://localhost:8080/"
        },
        "id": "D90xuank17AS",
        "outputId": "844b1212-5fba-4c00-e6a9-42ba55b59ede"
      },
      "outputs": [
        {
          "name": "stdout",
          "output_type": "stream",
          "text": [
            "Collecting mpi4py\n",
            "  Downloading mpi4py-3.1.6.tar.gz (2.4 MB)\n",
            "\u001b[2K     \u001b[90m━━━━━━━━━━━━━━━━━━━━━━━━━━━━━━━━━━━━━━━━\u001b[0m \u001b[32m2.4/2.4 MB\u001b[0m \u001b[31m13.4 MB/s\u001b[0m eta \u001b[36m0:00:00\u001b[0m\n",
            "\u001b[?25h  Installing build dependencies ... \u001b[?25l\u001b[?25hdone\n",
            "  Getting requirements to build wheel ... \u001b[?25l\u001b[?25hdone\n",
            "  Preparing metadata (pyproject.toml) ... \u001b[?25l\u001b[?25hdone\n",
            "Building wheels for collected packages: mpi4py\n",
            "  Building wheel for mpi4py (pyproject.toml) ... \u001b[?25l\u001b[?25hdone\n",
            "  Created wheel for mpi4py: filename=mpi4py-3.1.6-cp310-cp310-linux_x86_64.whl size=2746305 sha256=20f30e7397dcc688dc412db8a6f0b3be8b270961b16316e7fd6a198b1c0d4eaf\n",
            "  Stored in directory: /root/.cache/pip/wheels/4c/ca/89/8fc1fb1c620afca13bb41c630b1f948bbf446e0aaa4b762e10\n",
            "Successfully built mpi4py\n",
            "Installing collected packages: mpi4py\n",
            "Successfully installed mpi4py-3.1.6\n"
          ]
        }
      ],
      "source": [
        "!pip install mpi4py"
      ]
    },
    {
      "cell_type": "code",
      "execution_count": 3,
      "metadata": {
        "colab": {
          "base_uri": "https://localhost:8080/"
        },
        "id": "JNIacyKH2eZJ",
        "outputId": "3d798248-d564-41d5-abae-d90feb45f7b6"
      },
      "outputs": [
        {
          "name": "stdout",
          "output_type": "stream",
          "text": [
            "Root process (rank 0) broadcasting data: 42\n",
            "Total running time: 9.2726e-05 seconds\n"
          ]
        }
      ],
      "source": [
        "#Problem Statment: Implement a broadcasting program using MPI.Use the function MPI_Wtime() to measure the running time of your program.\n",
        "\n",
        "\n",
        "\n",
        "from mpi4py import MPI\n",
        "\n",
        "def main():\n",
        "    comm = MPI.COMM_WORLD\n",
        "    rank = comm.Get_rank()\n",
        "    size = comm.Get_size()\n",
        "    start_time = None\n",
        "\n",
        "    if rank == 0:\n",
        "        # If it's the root process (rank 0), set the data to be broadcasted\n",
        "        data = 42\n",
        "        print(\"Root process (rank 0) broadcasting data:\", data)\n",
        "        start_time = MPI.Wtime()  # Record start time\n",
        "\n",
        "    else:\n",
        "        data = None\n",
        "\n",
        "    # Broadcast data from root process (rank 0) to all other processes\n",
        "    data = comm.bcast(data, root=0)\n",
        "\n",
        "    if rank != 0:\n",
        "        # If it's not the root process, print the received data\n",
        "        print(\"Process\", rank, \"received data:\", data)\n",
        "\n",
        "    # Synchronize all processes before recording end time\n",
        "    comm.barrier()\n",
        "\n",
        "    if rank == 0:\n",
        "        end_time = MPI.Wtime()  # Record end time\n",
        "        print(\"Total running time:\", end_time - start_time, \"seconds\")\n",
        "\n",
        "if __name__ == \"__main__\":\n",
        "    main()\n"
      ]
    },
    {
      "cell_type": "code",
      "execution_count": 4,
      "metadata": {
        "colab": {
          "base_uri": "https://localhost:8080/"
        },
        "id": "ZVy8kT0U3cVR",
        "outputId": "96b56b38-cbfb-45c3-e2d0-e69adc3695ef"
      },
      "outputs": [
        {
          "name": "stdout",
          "output_type": "stream",
          "text": [
            "Original array: [62 17 28  7 36 35  6 19 46 82]\n",
            "Sorted array: [ 6  7 17 19 28 35 36 46 62 82]\n"
          ]
        }
      ],
      "source": [
        "#Implement using OpenMP API\n",
        "#Bubble Sort \n",
        "#message passing in threads\n",
        "\n",
        "\n",
        "import numpy as np\n",
        "from numba import jit, prange\n",
        "\n",
        "@jit(nopython=True, parallel=True)\n",
        "def bubble_sort(arr):\n",
        "    n = len(arr)\n",
        "    for i in prange(n):\n",
        "        for j in range(0, n-i-1):\n",
        "            if arr[j] > arr[j+1]:\n",
        "                arr[j], arr[j+1] = arr[j+1], arr[j]\n",
        "\n",
        "# Example usage\n",
        "arr = np.random.randint(0, 100, size=10)\n",
        "print(\"Original array:\", arr)\n",
        "\n",
        "bubble_sort(arr)\n",
        "print(\"Sorted array:\", arr)\n"
      ]
    }
  ],
  "metadata": {
    "colab": {
      "provenance": []
    },
    "kernelspec": {
      "display_name": "Python 3",
      "name": "python3"
    },
    "language_info": {
      "name": "python"
    }
  },
  "nbformat": 4,
  "nbformat_minor": 0
}
